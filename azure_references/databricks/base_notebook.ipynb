{
 "cells": [
  {
   "cell_type": "code",
   "execution_count": null,
   "metadata": {
    "application/vnd.databricks.v1+cell": {
     "cellMetadata": {},
     "inputWidgets": {},
     "nuid": "002c1362-ac66-417a-b805-f2a4f8b72fef",
     "showTitle": false,
     "title": ""
    }
   },
   "outputs": [],
   "source": [
    "# Mount bronze storage\n",
    "dbutils.fs.mount(\n",
    "    source: \"wasbs://bronze@medallionstrg.blob.core.windows.net\",\n",
    "    mount_point: \"/mnt/bronze\",\n",
    "    extra_configs = {\n",
    "        \"fs.azure.account.key.medallionstrg.blob.core.windows.net\": dbutils.secrets.get(\n",
    "            scope = \"databricksScope\",\n",
    "            key = \"storageAccountKey\"\n",
    "        )\n",
    "    }\n",
    ")\n",
    "\n",
    "# Mount silver storage\n",
    "dbutils.fs.mount(\n",
    "    source: \"wasbs://silver@medallionstrg.blob.core.windows.net\",\n",
    "    mount_point: \"/mnt/silver\",\n",
    "    extra_configs = {\n",
    "        \"fs.azure.account.key.medallionstrg.blob.core.windows.net\": dbutils.secrets.get(\n",
    "            scope = \"databricksScope\",\n",
    "            key = \"storageAccountKey\"\n",
    "        )\n",
    "    }\n",
    ")\n",
    "\n",
    "# Mount gold storage\n",
    "dbutils.fs.mount(\n",
    "    source: \"wasbs://gold@medallionstrg.blob.core.windows.net\",\n",
    "    mount_point: \"/mnt/gold\",\n",
    "    extra_configs = {\n",
    "        \"fs.azure.account.key.medallionstrg.blob.core.windows.net\": dbutils.secrets.get(\n",
    "            scope = \"databricksScope\",\n",
    "            key = \"storageAccountKey\"\n",
    "        )\n",
    "    }\n",
    ")"
   ]
  },
  {
   "cell_type": "code",
   "execution_count": null,
   "metadata": {
    "application/vnd.databricks.v1+cell": {
     "cellMetadata": {
      "byteLimit": 2048000,
      "rowLimit": 10000
     },
     "inputWidgets": {},
     "nuid": "d2dc6585-96bd-49d7-98b2-d65152f4e392",
     "showTitle": false,
     "title": ""
    }
   },
   "outputs": [
    {
     "data": {
      "text/plain": [
       "DataFrame[]"
      ]
     },
     "execution_count": 8,
     "metadata": {},
     "output_type": "execute_result"
    }
   ],
   "source": [
    "fileName = dbutils.widgets.get(\"fileName\")\n",
    "tableSchema = dbutils.widgets.get(\"table_schema\")\n",
    "tableName = dbutils.widgets.get(\"table_name\")\n",
    "\n",
    "# create schema if not exists\n",
    "spark.sql(f\"CREATE SCHEMA IF NOT EXISTS {tableSchema}\")\n",
    "\n",
    "# create database if not exists\n",
    "spark.sql(f\"CREATE DATABASE IF NOT EXISTS {tableName}\")\n",
    "\n",
    "# create table if not exists\n",
    "spark.sql(f\"\"\"CREATE TABLE IF NOT EXISTS {tableSchema}.{tableName}\n",
    "            USING PARQUET\n",
    "            LOCATION '/mnt/bronze/{fileName}/{tableSchema}.{tableName}.parquet'\n",
    "\"\"\")\n"
   ]
  }
 ],
 "metadata": {
  "application/vnd.databricks.v1+notebook": {
   "dashboards": [],
   "environmentMetadata": null,
   "language": "python",
   "notebookMetadata": {
    "pythonIndentUnit": 4
   },
   "notebookName": "Base_Notebook",
   "widgets": {}
  },
  "language_info": {
   "name": "python"
  }
 },
 "nbformat": 4,
 "nbformat_minor": 0
}
